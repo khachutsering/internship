{
 "cells": [
  {
   "cell_type": "markdown",
   "id": "29e47966",
   "metadata": {},
   "source": [
    "# regular expression practice question and solution\n",
    "Question 1- Write a RegEx pattern in python program to check that a string contains only a certain set of characters (in this case a-z, A-Z and 0-9).\n"
   ]
  },
  {
   "cell_type": "code",
   "execution_count": 1,
   "id": "fabeec4d",
   "metadata": {},
   "outputs": [
    {
     "name": "stdout",
     "output_type": "stream",
     "text": [
      "Test string: Abc123\n",
      "Is valid? True\n"
     ]
    }
   ],
   "source": [
    "import re\n",
    "\n",
    "def is_valid_string(input_string):\n",
    "    # Regular expression pattern for only a-z, A-Z, and 0-9\n",
    "    pattern = re.compile(r'^[a-zA-Z0-9]+$')\n",
    "\n",
    "    # Use match to check if the entire string matches the pattern\n",
    "    match = pattern.match(input_string)\n",
    "\n",
    "    return bool(match)\n",
    "\n",
    "# Example usage:\n",
    "test_string = \"Abc123\"\n",
    "result = is_valid_string(test_string)\n",
    "\n",
    "print(f\"Test string: {test_string}\")\n",
    "print(f\"Is valid? {result}\")\n"
   ]
  },
  {
   "cell_type": "markdown",
   "id": "a92f3b8c",
   "metadata": {},
   "source": [
    "Question 2- Write a RegEx pattern that matches a string that has an a followed by zero or more b's"
   ]
  },
  {
   "cell_type": "code",
   "execution_count": 3,
   "id": "42c66b9f",
   "metadata": {},
   "outputs": [
    {
     "name": "stdout",
     "output_type": "stream",
     "text": [
      "The string 'abb' matches the pattern.\n"
     ]
    }
   ],
   "source": [
    "import re\n",
    "\n",
    "pattern = re.compile(r'ab*')\n",
    "\n",
    "test_string = \"abb\"\n",
    "result = pattern.match(test_string)\n",
    "\n",
    "if result:\n",
    "    print(f\"The string '{test_string}' matches the pattern.\")\n",
    "else:\n",
    "    print(f\"The string '{test_string}' does not match the pattern.\")\n"
   ]
  },
  {
   "cell_type": "markdown",
   "id": "6431889c",
   "metadata": {},
   "source": [
    "Question 3-  Write a RegEx pattern that matches a string that has an a followed by one or more b's"
   ]
  },
  {
   "cell_type": "code",
   "execution_count": 4,
   "id": "2325c1fd",
   "metadata": {},
   "outputs": [
    {
     "name": "stdout",
     "output_type": "stream",
     "text": [
      "The string 'abb' matches the pattern.\n"
     ]
    }
   ],
   "source": [
    "import re\n",
    "\n",
    "pattern = re.compile(r'ab+')\n",
    "\n",
    "test_string = \"abb\"\n",
    "result = pattern.match(test_string)\n",
    "\n",
    "if result:\n",
    "    print(f\"The string '{test_string}' matches the pattern.\")\n",
    "else:\n",
    "    print(f\"The string '{test_string}' does not match the pattern.\")\n"
   ]
  },
  {
   "cell_type": "markdown",
   "id": "06547b27",
   "metadata": {},
   "source": [
    "Question 4- Write a RegEx pattern that matches a string that has an a followed by zero or one 'b'."
   ]
  },
  {
   "cell_type": "code",
   "execution_count": 5,
   "id": "aa9e07ed",
   "metadata": {},
   "outputs": [
    {
     "name": "stdout",
     "output_type": "stream",
     "text": [
      "The string 'ab' matches the pattern.\n"
     ]
    }
   ],
   "source": [
    "import re\n",
    "\n",
    "pattern = re.compile(r'ab?')\n",
    "\n",
    "test_string = \"ab\"\n",
    "result = pattern.match(test_string)\n",
    "\n",
    "if result:\n",
    "    print(f\"The string '{test_string}' matches the pattern.\")\n",
    "else:\n",
    "    print(f\"The string '{test_string}' does not match the pattern.\")\n"
   ]
  },
  {
   "cell_type": "markdown",
   "id": "53589340",
   "metadata": {},
   "source": [
    "Question 5- Write a RegEx pattern in python program that matches a string that has an a followed by three 'b'."
   ]
  },
  {
   "cell_type": "code",
   "execution_count": 6,
   "id": "33dcc20b",
   "metadata": {},
   "outputs": [
    {
     "name": "stdout",
     "output_type": "stream",
     "text": [
      "The string 'abbb' matches the pattern.\n"
     ]
    }
   ],
   "source": [
    "import re\n",
    "\n",
    "pattern = re.compile(r'ab{3}')\n",
    "\n",
    "test_string = \"abbb\"\n",
    "result = pattern.match(test_string)\n",
    "\n",
    "if result:\n",
    "    print(f\"The string '{test_string}' matches the pattern.\")\n",
    "else:\n",
    "    print(f\"The string '{test_string}' does not match the pattern.\")\n"
   ]
  },
  {
   "cell_type": "markdown",
   "id": "395acb47",
   "metadata": {},
   "source": [
    "Question 6- Write a RegEx pattern in python program that matches a string that has an a followed by two to three 'b'.\n"
   ]
  },
  {
   "cell_type": "code",
   "execution_count": 8,
   "id": "12909b1f",
   "metadata": {},
   "outputs": [
    {
     "name": "stdout",
     "output_type": "stream",
     "text": [
      "The string 'abb' matches the pattern.\n"
     ]
    }
   ],
   "source": [
    "import re\n",
    "\n",
    "pattern = re.compile(r'ab{2,3}')\n",
    "\n",
    "test_string = \"abb\"\n",
    "result = pattern.match(test_string)\n",
    "\n",
    "if result:\n",
    "    print(f\"The string '{test_string}' matches the pattern.\")\n",
    "else:\n",
    "    print(f\"The string '{test_string}' does not match the pattern.\")\n"
   ]
  },
  {
   "cell_type": "markdown",
   "id": "42cad96d",
   "metadata": {},
   "source": [
    "Question 7- Write a Python program that matches a string that has an 'a' followed by anything, ending in 'b'.\n"
   ]
  },
  {
   "cell_type": "code",
   "execution_count": 10,
   "id": "573b35b9",
   "metadata": {},
   "outputs": [
    {
     "name": "stdout",
     "output_type": "stream",
     "text": [
      "The string 'antsb' matches the pattern.\n",
      "The string 'akjl123b' matches the pattern.\n",
      "The string 'acenhh' does not match the pattern.\n",
      "The string 'ab' matches the pattern.\n"
     ]
    }
   ],
   "source": [
    "import re\n",
    "\n",
    "pattern = re.compile(r'a.*b$')\n",
    "\n",
    "def match_pattern(test_string):\n",
    "    result = pattern.match(test_string)\n",
    "    if result:\n",
    "        print(f\"The string '{test_string}' matches the pattern.\")\n",
    "    else:\n",
    "        print(f\"The string '{test_string}' does not match the pattern.\")\n",
    "\n",
    "# Example usage:\n",
    "test_string_1 = \"antsb\"\n",
    "test_string_2 = \"akjl123b\"\n",
    "test_string_3 = \"acenhh\"\n",
    "test_string_4 = \"ab\"\n",
    "\n",
    "match_pattern(test_string_1)\n",
    "match_pattern(test_string_2)\n",
    "match_pattern(test_string_3)\n",
    "match_pattern(test_string_4)\n"
   ]
  },
  {
   "cell_type": "markdown",
   "id": "fa985a57",
   "metadata": {},
   "source": [
    "Question 8- Write a RegEx pattern in python program that matches a word at the beginning of a string."
   ]
  },
  {
   "cell_type": "code",
   "execution_count": 12,
   "id": "98fa88ec",
   "metadata": {},
   "outputs": [
    {
     "name": "stdout",
     "output_type": "stream",
     "text": [
      "The string 'Hello World' matches the pattern.\n",
      "The string '123abc' matches the pattern.\n",
      "The string '   leading_space' does not match the pattern.\n",
      "The string 'no_match_at_beginning' matches the pattern.\n"
     ]
    }
   ],
   "source": [
    "import re\n",
    "\n",
    "pattern = re.compile(r'\\b\\w+')\n",
    "\n",
    "def match_pattern(test_string):\n",
    "    result = pattern.match(test_string)\n",
    "    if result:\n",
    "        print(f\"The string '{test_string}' matches the pattern.\")\n",
    "    else:\n",
    "        print(f\"The string '{test_string}' does not match the pattern.\")\n",
    "\n",
    "# Example usage:\n",
    "test_string_1 = \"Hello World\"\n",
    "test_string_2 = \"123abc\"\n",
    "test_string_3 = \"   leading_space\"\n",
    "test_string_4 = \"no_match_at_beginning\"\n",
    "\n",
    "match_pattern(test_string_1)\n",
    "match_pattern(test_string_2)\n",
    "match_pattern(test_string_3)\n",
    "match_pattern(test_string_4)\n"
   ]
  },
  {
   "cell_type": "markdown",
   "id": "4be1e78f",
   "metadata": {},
   "source": [
    "Question 9- Write a RegEx pattern in python program that matches a word at the end of a string."
   ]
  },
  {
   "cell_type": "code",
   "execution_count": 13,
   "id": "13bf369d",
   "metadata": {},
   "outputs": [
    {
     "name": "stdout",
     "output_type": "stream",
     "text": [
      "The string 'Hello World' matches the pattern.\n",
      "The string 'abc123' matches the pattern.\n",
      "The string 'trailing_space   ' matches the pattern.\n",
      "The string 'no_match_at_end' matches the pattern.\n"
     ]
    }
   ],
   "source": [
    "import re\n",
    "\n",
    "pattern = re.compile(r'\\w+\\b')\n",
    "\n",
    "def match_pattern(test_string):\n",
    "    result = pattern.search(test_string)\n",
    "    if result:\n",
    "        print(f\"The string '{test_string}' matches the pattern.\")\n",
    "    else:\n",
    "        print(f\"The string '{test_string}' does not match the pattern.\")\n",
    "\n",
    "# Example usage:\n",
    "test_string_1 = \"Hello World\"\n",
    "test_string_2 = \"abc123\"\n",
    "test_string_3 = \"trailing_space   \"\n",
    "test_string_4 = \"no_match_at_end\"\n",
    "\n",
    "match_pattern(test_string_1)\n",
    "match_pattern(test_string_2)\n",
    "match_pattern(test_string_3)\n",
    "match_pattern(test_string_4)\n"
   ]
  },
  {
   "cell_type": "markdown",
   "id": "01a73563",
   "metadata": {},
   "source": [
    "question 10- Write a RegEx pattern in python program to find all words that are 4 digits long in a string.\n",
    "Sample text- '01 0132 231875 1458 301 2725.'\n",
    "Expected output- ['0132', '1458', '2725']"
   ]
  },
  {
   "cell_type": "code",
   "execution_count": 14,
   "id": "a88463c4",
   "metadata": {},
   "outputs": [
    {
     "name": "stdout",
     "output_type": "stream",
     "text": [
      "Sample text: 01 0132 231875 1458 301 2725.\n",
      "Expected output: ['0132', '1458', '2725']\n"
     ]
    }
   ],
   "source": [
    "import re\n",
    "\n",
    "sample_text = '01 0132 231875 1458 301 2725.'\n",
    "pattern = re.compile(r'\\b\\d{4}\\b')\n",
    "result = pattern.findall(sample_text)\n",
    "\n",
    "print(\"Sample text:\", sample_text)\n",
    "print(\"Expected output:\", result)\n"
   ]
  },
  {
   "cell_type": "code",
   "execution_count": null,
   "id": "8cf02805",
   "metadata": {},
   "outputs": [],
   "source": []
  }
 ],
 "metadata": {
  "kernelspec": {
   "display_name": "Python 3 (ipykernel)",
   "language": "python",
   "name": "python3"
  },
  "language_info": {
   "codemirror_mode": {
    "name": "ipython",
    "version": 3
   },
   "file_extension": ".py",
   "mimetype": "text/x-python",
   "name": "python",
   "nbconvert_exporter": "python",
   "pygments_lexer": "ipython3",
   "version": "3.10.9"
  }
 },
 "nbformat": 4,
 "nbformat_minor": 5
}
